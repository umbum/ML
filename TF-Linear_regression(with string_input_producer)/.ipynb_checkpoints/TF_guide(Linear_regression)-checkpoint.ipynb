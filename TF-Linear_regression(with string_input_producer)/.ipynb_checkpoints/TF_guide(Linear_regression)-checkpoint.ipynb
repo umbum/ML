{
 "cells": [
  {
   "cell_type": "code",
   "execution_count": 13,
   "metadata": {
    "collapsed": true
   },
   "outputs": [],
   "source": [
    "import tensorflow as tf\n",
    "import numpy as np\n",
    "\n",
    "tf.set_random_seed(777)"
   ]
  },
  {
   "cell_type": "code",
   "execution_count": 14,
   "metadata": {
    "collapsed": true
   },
   "outputs": [],
   "source": [
    "#dataset을 한 줄씩 가져오기 위해\n",
    "filename_queue = tf.train.string_input_producer(['data-01-test-score.csv'], shuffle=False, name='filename_queue')\n",
    "\n",
    "#일단은 text 형태로 가져온다.\n",
    "reader = tf.TextLineReader()\n",
    "key, value = reader.read(filename_queue)\n",
    "\n",
    "#record_defaults 인자는 csv 내부의 data를 어떤 식으로 반환할지를 지정한다.\n",
    "record_defaults=[[0.],[0.],[0.],[0.]]\n",
    "xy = tf.decode_csv(value, record_defaults=record_defaults)\n",
    "\n",
    "train_x_batch, train_y_batch = \\\n",
    "tf.train.batch([xy[0:-1], xy[-1:]], batch_size=10)\n"
   ]
  },
  {
   "cell_type": "code",
   "execution_count": 15,
   "metadata": {},
   "outputs": [
    {
     "data": {
      "text/plain": [
       "'\\nx_data = [[73., 80., 85.], [93., 88., 93.],\\n          [89., 91., 90.], [96., 98., 100.], [73., 66., 70.]]\\ny_data = [[152.], [185.], [180.], [196.], [142.]]\\ny는 CNN의 정답레이블 t에 대응된다고 생각하면 된다.\\n이 예제에서는 MSE를 이용하게 되는데, \\nCNN에서의 MSE는 신경망의 출력 y에 정답 레이블 t를 빼서 오차를 구하게 된다.\\n여기서는 손실 함수의 개념이 아직 적용되지 않았고\\nclassification이 아니라 regression이므로, y 데이터가 저런 모양이다.'"
      ]
     },
     "execution_count": 15,
     "metadata": {},
     "output_type": "execute_result"
    }
   ],
   "source": [
    "'''\n",
    "x_data = [[73., 80., 85.], [93., 88., 93.],\n",
    "          [89., 91., 90.], [96., 98., 100.], [73., 66., 70.]]\n",
    "y_data = [[152.], [185.], [180.], [196.], [142.]]\n",
    "y는 CNN의 정답레이블 t에 대응된다고 생각하면 된다.\n",
    "이 예제에서는 MSE를 이용하게 되는데, \n",
    "CNN에서의 MSE는 신경망의 출력 y에 정답 레이블 t를 빼서 오차를 구하게 된다.\n",
    "여기서는 손실 함수의 개념이 아직 적용되지 않았고\n",
    "classification이 아니라 regression이므로, y 데이터가 저런 모양이다.'''"
   ]
  },
  {
   "cell_type": "code",
   "execution_count": 16,
   "metadata": {
    "collapsed": true
   },
   "outputs": [],
   "source": [
    "#X는 5,3 W는 3,1이므로, X는 5개의 2차원 x batch라고 생각하면 된다.\n",
    "X = tf.placeholder(tf.float32, shape=[None, 3])\n",
    "Y = tf.placeholder(tf.float32, shape=[None, 1])\n",
    "\n",
    "W = tf.Variable(tf.random_normal([3, 1]), name='weight')\n",
    "b = tf.Variable(tf.random_normal([1]), name='bias')\n",
    "\n",
    "hypothesis = tf.matmul(X, W) + b"
   ]
  },
  {
   "cell_type": "code",
   "execution_count": 17,
   "metadata": {
    "collapsed": true
   },
   "outputs": [],
   "source": [
    "cost = tf.reduce_mean(tf.square(hypothesis - Y)) #MSE\n",
    "# 위에서 설명한 대로 hypothesis(출력)에서 Y를 뺀다.\n",
    "# hypothesis = Y일 때 cost가 최소이므로,\n",
    "# W와 b는 hypothesis = Y로 만드는 방향으로 학습한다.\n",
    "###   hypothesis는 Y값에 가까워 진다는게 핵심."
   ]
  },
  {
   "cell_type": "code",
   "execution_count": 18,
   "metadata": {},
   "outputs": [
    {
     "data": {
      "text/plain": [
       "'\\nDLfromScratch에서는 반복 마다 계산된 grads를 optimizer.update(params, grads)로 집어 넣어\\nparams를 갱신하도록 했다. \\n여기서는 optimizer에 cost만 집어 넣고 sess.run(optimizer) 시 알아서 갱신된다.\\n따라서 train만 호출하면 train-cost-hypothesis-w, b로 연결된다.\\n'"
      ]
     },
     "execution_count": 18,
     "metadata": {},
     "output_type": "execute_result"
    }
   ],
   "source": [
    "optimizer = tf.train.GradientDescentOptimizer(learning_rate=1e-5)\n",
    "train = optimizer.minimize(cost)\n",
    "'''\n",
    "DLfromScratch에서는 반복 마다 계산된 grads를 optimizer.update(params, grads)로 집어 넣어\n",
    "params를 갱신하도록 했다. \n",
    "여기서는 optimizer에 cost만 집어 넣고 sess.run(optimizer) 시 알아서 갱신된다.\n",
    "따라서 train만 호출하면 train-cost-hypothesis-w, b로 연결된다.\n",
    "'''"
   ]
  },
  {
   "cell_type": "code",
   "execution_count": 19,
   "metadata": {
    "collapsed": true
   },
   "outputs": [],
   "source": [
    "sess = tf.Session()\n",
    "sess.run(tf.global_variables_initializer())"
   ]
  },
  {
   "cell_type": "code",
   "execution_count": 20,
   "metadata": {
    "collapsed": true
   },
   "outputs": [],
   "source": [
    "coord = tf.train.Coordinator()#threads의 종료를 조정하기 위해\n",
    "#string_input_producer에서 자동으로 추가된 QueueRunner를 start시켜 파일을 읽어온다\n",
    "threads = tf.train.start_queue_runners(sess=sess, coord=coord)"
   ]
  },
  {
   "cell_type": "code",
   "execution_count": 27,
   "metadata": {},
   "outputs": [
    {
     "name": "stdout",
     "output_type": "stream",
     "text": [
      "0 Cost:  8.01244 \n",
      "Prediction:\n",
      " [[ 189.09486389]\n",
      " [ 145.57537842]\n",
      " [ 180.96246338]\n",
      " [ 177.84317017]\n",
      " [ 159.16156006]\n",
      " [ 176.20378113]\n",
      " [ 174.92089844]\n",
      " [ 167.56933594]\n",
      " [ 151.93981934]\n",
      " [ 191.48146057]]\n",
      "100 Cost:  7.98226 \n",
      "Prediction:\n",
      " [[ 189.09449768]\n",
      " [ 145.54754639]\n",
      " [ 180.9863739 ]\n",
      " [ 177.83435059]\n",
      " [ 159.15585327]\n",
      " [ 176.21739197]\n",
      " [ 174.92095947]\n",
      " [ 167.58126831]\n",
      " [ 151.92596436]\n",
      " [ 191.47238159]]\n",
      "200 Cost:  7.95349 \n",
      "Prediction:\n",
      " [[ 189.09403992]\n",
      " [ 145.52058411]\n",
      " [ 181.00965881]\n",
      " [ 177.82592773]\n",
      " [ 159.1504364 ]\n",
      " [ 176.23062134]\n",
      " [ 174.92092896]\n",
      " [ 167.59289551]\n",
      " [ 151.9127655 ]\n",
      " [ 191.46351624]]\n",
      "300 Cost:  7.92603 \n",
      "Prediction:\n",
      " [[ 189.0934906 ]\n",
      " [ 145.49446106]\n",
      " [ 181.03233337]\n",
      " [ 177.81785583]\n",
      " [ 159.14530945]\n",
      " [ 176.24345398]\n",
      " [ 174.92077637]\n",
      " [ 167.60421753]\n",
      " [ 151.90013123]\n",
      " [ 191.45487976]]\n",
      "400 Cost:  7.89982 \n",
      "Prediction:\n",
      " [[ 189.09284973]\n",
      " [ 145.46913147]\n",
      " [ 181.05441284]\n",
      " [ 177.81011963]\n",
      " [ 159.14042664]\n",
      " [ 176.25593567]\n",
      " [ 174.92051697]\n",
      " [ 167.61524963]\n",
      " [ 151.88806152]\n",
      " [ 191.44642639]]\n",
      "500 Cost:  7.87486 \n",
      "Prediction:\n",
      " [[ 189.09211731]\n",
      " [ 145.44459534]\n",
      " [ 181.07589722]\n",
      " [ 177.80271912]\n",
      " [ 159.13581848]\n",
      " [ 176.26802063]\n",
      " [ 174.92015076]\n",
      " [ 167.62597656]\n",
      " [ 151.87654114]\n",
      " [ 191.43818665]]\n",
      "600 Cost:  7.85097 \n",
      "Prediction:\n",
      " [[ 189.09132385]\n",
      " [ 145.4208374 ]\n",
      " [ 181.09683228]\n",
      " [ 177.79560852]\n",
      " [ 159.13142395]\n",
      " [ 176.27980042]\n",
      " [ 174.91972351]\n",
      " [ 167.63642883]\n",
      " [ 151.86552429]\n",
      " [ 191.43016052]]\n",
      "700 Cost:  7.82821 \n",
      "Prediction:\n",
      " [[ 189.0904541 ]\n",
      " [ 145.39778137]\n",
      " [ 181.11721802]\n",
      " [ 177.78883362]\n",
      " [ 159.12727356]\n",
      " [ 176.29121399]\n",
      " [ 174.91920471]\n",
      " [ 167.64660645]\n",
      " [ 151.85502625]\n",
      " [ 191.4223175 ]]\n",
      "800 Cost:  7.80643 \n",
      "Prediction:\n",
      " [[ 189.08950806]\n",
      " [ 145.37541199]\n",
      " [ 181.13703918]\n",
      " [ 177.78231812]\n",
      " [ 159.12335205]\n",
      " [ 176.30232239]\n",
      " [ 174.91862488]\n",
      " [ 167.65653992]\n",
      " [ 151.84495544]\n",
      " [ 191.41467285]]\n",
      "900 Cost:  7.78566 \n",
      "Prediction:\n",
      " [[ 189.08851624]\n",
      " [ 145.35374451]\n",
      " [ 181.15638733]\n",
      " [ 177.77607727]\n",
      " [ 159.11962891]\n",
      " [ 176.31309509]\n",
      " [ 174.91795349]\n",
      " [ 167.66618347]\n",
      " [ 151.83537292]\n",
      " [ 191.4072113 ]]\n"
     ]
    },
    {
     "ename": "KeyboardInterrupt",
     "evalue": "",
     "output_type": "error",
     "traceback": [
      "\u001b[0;31m-------------------------------------------------------------------\u001b[0m",
      "\u001b[0;31mKeyboardInterrupt\u001b[0m                 Traceback (most recent call last)",
      "\u001b[0;32m<ipython-input-27-8bd4b7ee7eba>\u001b[0m in \u001b[0;36m<module>\u001b[0;34m()\u001b[0m\n\u001b[1;32m      1\u001b[0m \u001b[0;34m\u001b[0m\u001b[0m\n\u001b[1;32m      2\u001b[0m \u001b[0;32mfor\u001b[0m \u001b[0mstep\u001b[0m \u001b[0;32min\u001b[0m \u001b[0mrange\u001b[0m\u001b[0;34m(\u001b[0m\u001b[0;36m2001\u001b[0m\u001b[0;34m)\u001b[0m\u001b[0;34m:\u001b[0m\u001b[0;34m\u001b[0m\u001b[0m\n\u001b[0;32m----> 3\u001b[0;31m     \u001b[0mx_batch\u001b[0m\u001b[0;34m,\u001b[0m \u001b[0my_batch\u001b[0m \u001b[0;34m=\u001b[0m \u001b[0msess\u001b[0m\u001b[0;34m.\u001b[0m\u001b[0mrun\u001b[0m\u001b[0;34m(\u001b[0m\u001b[0;34m[\u001b[0m\u001b[0mtrain_x_batch\u001b[0m\u001b[0;34m,\u001b[0m \u001b[0mtrain_y_batch\u001b[0m\u001b[0;34m]\u001b[0m\u001b[0;34m)\u001b[0m\u001b[0;34m\u001b[0m\u001b[0m\n\u001b[0m\u001b[1;32m      4\u001b[0m     \u001b[0msess\u001b[0m\u001b[0;34m.\u001b[0m\u001b[0mrun\u001b[0m\u001b[0;34m(\u001b[0m\u001b[0mtrain\u001b[0m\u001b[0;34m,\u001b[0m \u001b[0mfeed_dict\u001b[0m\u001b[0;34m=\u001b[0m\u001b[0;34m{\u001b[0m\u001b[0mX\u001b[0m\u001b[0;34m:\u001b[0m \u001b[0mx_batch\u001b[0m\u001b[0;34m,\u001b[0m \u001b[0mY\u001b[0m\u001b[0;34m:\u001b[0m \u001b[0my_batch\u001b[0m\u001b[0;34m}\u001b[0m\u001b[0;34m)\u001b[0m\u001b[0;34m\u001b[0m\u001b[0m\n\u001b[1;32m      5\u001b[0m     \u001b[0;32mif\u001b[0m \u001b[0mstep\u001b[0m \u001b[0;34m%\u001b[0m \u001b[0;36m100\u001b[0m \u001b[0;34m==\u001b[0m \u001b[0;36m0\u001b[0m\u001b[0;34m:\u001b[0m\u001b[0;34m\u001b[0m\u001b[0m\n",
      "\u001b[0;32m/home/ubuntu/workspace/tf/lib/python3.4/site-packages/tensorflow/python/client/session.py\u001b[0m in \u001b[0;36mrun\u001b[0;34m(self, fetches, feed_dict, options, run_metadata)\u001b[0m\n\u001b[1;32m    765\u001b[0m     \u001b[0;32mtry\u001b[0m\u001b[0;34m:\u001b[0m\u001b[0;34m\u001b[0m\u001b[0m\n\u001b[1;32m    766\u001b[0m       result = self._run(None, fetches, feed_dict, options_ptr,\n\u001b[0;32m--> 767\u001b[0;31m                          run_metadata_ptr)\n\u001b[0m\u001b[1;32m    768\u001b[0m       \u001b[0;32mif\u001b[0m \u001b[0mrun_metadata\u001b[0m\u001b[0;34m:\u001b[0m\u001b[0;34m\u001b[0m\u001b[0m\n\u001b[1;32m    769\u001b[0m         \u001b[0mproto_data\u001b[0m \u001b[0;34m=\u001b[0m \u001b[0mtf_session\u001b[0m\u001b[0;34m.\u001b[0m\u001b[0mTF_GetBuffer\u001b[0m\u001b[0;34m(\u001b[0m\u001b[0mrun_metadata_ptr\u001b[0m\u001b[0;34m)\u001b[0m\u001b[0;34m\u001b[0m\u001b[0m\n",
      "\u001b[0;32m/home/ubuntu/workspace/tf/lib/python3.4/site-packages/tensorflow/python/client/session.py\u001b[0m in \u001b[0;36m_run\u001b[0;34m(self, handle, fetches, feed_dict, options, run_metadata)\u001b[0m\n\u001b[1;32m    963\u001b[0m     \u001b[0;32mif\u001b[0m \u001b[0mfinal_fetches\u001b[0m \u001b[0;32mor\u001b[0m \u001b[0mfinal_targets\u001b[0m\u001b[0;34m:\u001b[0m\u001b[0;34m\u001b[0m\u001b[0m\n\u001b[1;32m    964\u001b[0m       results = self._do_run(handle, final_targets, final_fetches,\n\u001b[0;32m--> 965\u001b[0;31m                              feed_dict_string, options, run_metadata)\n\u001b[0m\u001b[1;32m    966\u001b[0m     \u001b[0;32melse\u001b[0m\u001b[0;34m:\u001b[0m\u001b[0;34m\u001b[0m\u001b[0m\n\u001b[1;32m    967\u001b[0m       \u001b[0mresults\u001b[0m \u001b[0;34m=\u001b[0m \u001b[0;34m[\u001b[0m\u001b[0;34m]\u001b[0m\u001b[0;34m\u001b[0m\u001b[0m\n",
      "\u001b[0;32m/home/ubuntu/workspace/tf/lib/python3.4/site-packages/tensorflow/python/client/session.py\u001b[0m in \u001b[0;36m_do_run\u001b[0;34m(self, handle, target_list, fetch_list, feed_dict, options, run_metadata)\u001b[0m\n\u001b[1;32m   1013\u001b[0m     \u001b[0;32mif\u001b[0m \u001b[0mhandle\u001b[0m \u001b[0;32mis\u001b[0m \u001b[0;32mNone\u001b[0m\u001b[0;34m:\u001b[0m\u001b[0;34m\u001b[0m\u001b[0m\n\u001b[1;32m   1014\u001b[0m       return self._do_call(_run_fn, self._session, feed_dict, fetch_list,\n\u001b[0;32m-> 1015\u001b[0;31m                            target_list, options, run_metadata)\n\u001b[0m\u001b[1;32m   1016\u001b[0m     \u001b[0;32melse\u001b[0m\u001b[0;34m:\u001b[0m\u001b[0;34m\u001b[0m\u001b[0m\n\u001b[1;32m   1017\u001b[0m       return self._do_call(_prun_fn, self._session, handle, feed_dict,\n",
      "\u001b[0;32m/home/ubuntu/workspace/tf/lib/python3.4/site-packages/tensorflow/python/client/session.py\u001b[0m in \u001b[0;36m_do_call\u001b[0;34m(self, fn, *args)\u001b[0m\n\u001b[1;32m   1020\u001b[0m   \u001b[0;32mdef\u001b[0m \u001b[0m_do_call\u001b[0m\u001b[0;34m(\u001b[0m\u001b[0mself\u001b[0m\u001b[0;34m,\u001b[0m \u001b[0mfn\u001b[0m\u001b[0;34m,\u001b[0m \u001b[0;34m*\u001b[0m\u001b[0margs\u001b[0m\u001b[0;34m)\u001b[0m\u001b[0;34m:\u001b[0m\u001b[0;34m\u001b[0m\u001b[0m\n\u001b[1;32m   1021\u001b[0m     \u001b[0;32mtry\u001b[0m\u001b[0;34m:\u001b[0m\u001b[0;34m\u001b[0m\u001b[0m\n\u001b[0;32m-> 1022\u001b[0;31m       \u001b[0;32mreturn\u001b[0m \u001b[0mfn\u001b[0m\u001b[0;34m(\u001b[0m\u001b[0;34m*\u001b[0m\u001b[0margs\u001b[0m\u001b[0;34m)\u001b[0m\u001b[0;34m\u001b[0m\u001b[0m\n\u001b[0m\u001b[1;32m   1023\u001b[0m     \u001b[0;32mexcept\u001b[0m \u001b[0merrors\u001b[0m\u001b[0;34m.\u001b[0m\u001b[0mOpError\u001b[0m \u001b[0;32mas\u001b[0m \u001b[0me\u001b[0m\u001b[0;34m:\u001b[0m\u001b[0;34m\u001b[0m\u001b[0m\n\u001b[1;32m   1024\u001b[0m       \u001b[0mmessage\u001b[0m \u001b[0;34m=\u001b[0m \u001b[0mcompat\u001b[0m\u001b[0;34m.\u001b[0m\u001b[0mas_text\u001b[0m\u001b[0;34m(\u001b[0m\u001b[0me\u001b[0m\u001b[0;34m.\u001b[0m\u001b[0mmessage\u001b[0m\u001b[0;34m)\u001b[0m\u001b[0;34m\u001b[0m\u001b[0m\n",
      "\u001b[0;32m/home/ubuntu/workspace/tf/lib/python3.4/site-packages/tensorflow/python/client/session.py\u001b[0m in \u001b[0;36m_run_fn\u001b[0;34m(session, feed_dict, fetch_list, target_list, options, run_metadata)\u001b[0m\n\u001b[1;32m   1002\u001b[0m         return tf_session.TF_Run(session, options,\n\u001b[1;32m   1003\u001b[0m                                  \u001b[0mfeed_dict\u001b[0m\u001b[0;34m,\u001b[0m \u001b[0mfetch_list\u001b[0m\u001b[0;34m,\u001b[0m \u001b[0mtarget_list\u001b[0m\u001b[0;34m,\u001b[0m\u001b[0;34m\u001b[0m\u001b[0m\n\u001b[0;32m-> 1004\u001b[0;31m                                  status, run_metadata)\n\u001b[0m\u001b[1;32m   1005\u001b[0m \u001b[0;34m\u001b[0m\u001b[0m\n\u001b[1;32m   1006\u001b[0m     \u001b[0;32mdef\u001b[0m \u001b[0m_prun_fn\u001b[0m\u001b[0;34m(\u001b[0m\u001b[0msession\u001b[0m\u001b[0;34m,\u001b[0m \u001b[0mhandle\u001b[0m\u001b[0;34m,\u001b[0m \u001b[0mfeed_dict\u001b[0m\u001b[0;34m,\u001b[0m \u001b[0mfetch_list\u001b[0m\u001b[0;34m)\u001b[0m\u001b[0;34m:\u001b[0m\u001b[0;34m\u001b[0m\u001b[0m\n",
      "\u001b[0;31mKeyboardInterrupt\u001b[0m: "
     ]
    }
   ],
   "source": [
    "\n",
    "for step in range(2001):\n",
    "    x_batch, y_batch = sess.run([train_x_batch, train_y_batch])\n",
    "    sess.run(train, feed_dict={X: x_batch, Y: y_batch})\n",
    "    if step % 100 == 0:\n",
    "        cost_val, hy_val = sess.run(\n",
    "            [cost, hypothesis], feed_dict={X:x_batch, Y: y_batch})\n",
    "        print(step, \"Cost: \", cost_val, \"\\nPrediction:\\n\", hy_val)\n",
    "print(\"approximation target\\n\", y_batch)        "
   ]
  },
  {
   "cell_type": "code",
   "execution_count": null,
   "metadata": {
    "collapsed": true
   },
   "outputs": [],
   "source": [
    "#request that the threads stop and wait until the threads terminate\n",
    "coord.request_stop()\n",
    "coord.join(threads)"
   ]
  },
  {
   "cell_type": "code",
   "execution_count": null,
   "metadata": {
    "collapsed": true
   },
   "outputs": [],
   "source": [
    "#Ask to machine\n",
    "myScore = sess.run(hypothesis, feed_dict={X:[[100, 90, 101]]})\n",
    "print(myScore)"
   ]
  },
  {
   "cell_type": "code",
   "execution_count": null,
   "metadata": {
    "collapsed": true
   },
   "outputs": [],
   "source": []
  }
 ],
 "metadata": {
  "kernelspec": {
   "display_name": "Python 3",
   "language": "python",
   "name": "python3"
  },
  "language_info": {
   "codemirror_mode": {
    "name": "ipython",
    "version": 3
   },
   "file_extension": ".py",
   "mimetype": "text/x-python",
   "name": "python",
   "nbconvert_exporter": "python",
   "pygments_lexer": "ipython3",
   "version": "3.4.3"
  }
 },
 "nbformat": 4,
 "nbformat_minor": 2
}
