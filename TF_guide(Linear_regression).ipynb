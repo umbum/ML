{
 "cells": [
  {
   "cell_type": "code",
   "execution_count": 42,
   "metadata": {
    "collapsed": false
   },
   "outputs": [],
   "source": [
    "import tensorflow as tf\n",
    "import numpy\n",
    "\n",
    "tf.set_random_seed(777)"
   ]
  },
  {
   "cell_type": "code",
   "execution_count": 43,
   "metadata": {
    "collapsed": false
   },
   "outputs": [
    {
     "data": {
      "text/plain": [
       "'y는 CNN의 정답레이블 t에 대응된다고 생각하면 된다.\\n이 예제에서는 MSE를 이용하게 되는데, \\nCNN에서의 MSE는 신경망의 출력 y에 정답 레이블 t를 빼서 오차를 구하게 된다.\\n여기서는 손실 함수의 개념이 아직 적용되지 않았고\\nclassification이 아니라 regression이므로, y 데이터가 저런 모양이다.'"
      ]
     },
     "execution_count": 43,
     "metadata": {},
     "output_type": "execute_result"
    }
   ],
   "source": [
    "x_data = [[73., 80., 85.], [93., 88., 93.],\n",
    "          [89., 91., 90.], [96., 98., 100.], [73., 66., 70.]]\n",
    "y_data = [[152.], [185.], [180.], [196.], [142.]]\n",
    "'''y는 CNN의 정답레이블 t에 대응된다고 생각하면 된다.\n",
    "이 예제에서는 MSE를 이용하게 되는데, \n",
    "CNN에서의 MSE는 신경망의 출력 y에 정답 레이블 t를 빼서 오차를 구하게 된다.\n",
    "여기서는 손실 함수의 개념이 아직 적용되지 않았고\n",
    "classification이 아니라 regression이므로, y 데이터가 저런 모양이다.'''"
   ]
  },
  {
   "cell_type": "code",
   "execution_count": 59,
   "metadata": {
    "collapsed": false
   },
   "outputs": [],
   "source": [
    "#X는 5,3 W는 3,1이므로, X는 5개의 2차원 x batch라고 생각하면 된다.\n",
    "X = tf.placeholder(tf.float32, shape=[None, 3])\n",
    "Y = tf.placeholder(tf.float32, shape=[None, 1])\n",
    "\n",
    "W = tf.Variable(tf.random_normal([3, 1]), name='weight')\n",
    "b = tf.Variable(tf.random_normal([1]), name='bias')\n",
    "\n",
    "hypothesis = tf.matmul(X, W) + b"
   ]
  },
  {
   "cell_type": "code",
   "execution_count": 45,
   "metadata": {
    "collapsed": true
   },
   "outputs": [],
   "source": [
    "cost = tf.reduce_mean(tf.square(hypothesis - Y)) #MSE\n",
    "# 위에서 설명한 대로 hypothesis(출력)에서 Y를 뺀다.\n",
    "# hypothesis = Y일 때 cost가 최소이므로,\n",
    "# W와 b는 hypothesis = Y로 만드는 방향으로 학습한다.\n",
    "###   hypothesis는 Y값에 가까워 진다는게 핵심."
   ]
  },
  {
   "cell_type": "code",
   "execution_count": 50,
   "metadata": {
    "collapsed": false
   },
   "outputs": [
    {
     "data": {
      "text/plain": [
       "'\\nDLfromScratch에서는 반복 마다 계산된 grads를 optimizer.update(params, grads)로 집어 넣어\\nparams를 갱신하도록 했다. \\n여기서는 optimizer에 cost만 집어 넣고 sess.run(optimizer) 시 알아서 갱신된다.\\n따라서 train만 호출하면 train-cost-hypothesis-w, b로 연결된다.\\n'"
      ]
     },
     "execution_count": 50,
     "metadata": {},
     "output_type": "execute_result"
    }
   ],
   "source": [
    "optimizer = tf.train.GradientDescentOptimizer(learning_rate=1e-5)\n",
    "train = optimizer.minimize(cost)\n",
    "'''\n",
    "DLfromScratch에서는 반복 마다 계산된 grads를 optimizer.update(params, grads)로 집어 넣어\n",
    "params를 갱신하도록 했다. \n",
    "여기서는 optimizer에 cost만 집어 넣고 sess.run(optimizer) 시 알아서 갱신된다.\n",
    "따라서 train만 호출하면 train-cost-hypothesis-w, b로 연결된다.\n",
    "'''"
   ]
  },
  {
   "cell_type": "code",
   "execution_count": 51,
   "metadata": {
    "collapsed": true
   },
   "outputs": [],
   "source": [
    "sess = tf.Session()\n",
    "sess.run(tf.global_variables_initializer())"
   ]
  },
  {
   "cell_type": "code",
   "execution_count": 52,
   "metadata": {
    "collapsed": true
   },
   "outputs": [
    {
     "name": "stdout",
     "output_type": "stream",
     "text": [
      "0 Cost:  69.7355 \n",
      "Prediction:\n",
      " [[ 149.63844299]\n",
      " [ 176.01524353]\n",
      " [ 169.55226135]\n",
      " [ 185.62457275]\n",
      " [ 135.24946594]]\n",
      "100 Cost:  6.06069 \n",
      "Prediction:\n",
      " [[ 156.86732483]\n",
      " [ 184.48731995]\n",
      " [ 177.87825012]\n",
      " [ 194.66474915]\n",
      " [ 141.7449646 ]]\n",
      "200 Cost:  5.84936 \n",
      "Prediction:\n",
      " [[ 156.76821899]\n",
      " [ 184.52297974]\n",
      " [ 177.89401245]\n",
      " [ 194.65457153]\n",
      " [ 141.80513   ]]\n",
      "300 Cost:  5.64966 \n",
      "Prediction:\n",
      " [[ 156.67201233]\n",
      " [ 184.55729675]\n",
      " [ 177.90968323]\n",
      " [ 194.64483643]\n",
      " [ 141.86317444]]\n",
      "400 Cost:  5.46094 \n",
      "Prediction:\n",
      " [[ 156.57865906]\n",
      " [ 184.59028625]\n",
      " [ 177.92527771]\n",
      " [ 194.63555908]\n",
      " [ 141.91917419]]\n",
      "500 Cost:  5.2825 \n",
      "Prediction:\n",
      " [[ 156.48806763]\n",
      " [ 184.62202454]\n",
      " [ 177.94081116]\n",
      " [ 194.62672424]\n",
      " [ 141.97319031]]\n",
      "600 Cost:  5.11373 \n",
      "Prediction:\n",
      " [[ 156.40014648]\n",
      " [ 184.65252686]\n",
      " [ 177.95625305]\n",
      " [ 194.61830139]\n",
      " [ 142.02529907]]\n",
      "700 Cost:  4.95402 \n",
      "Prediction:\n",
      " [[ 156.31480408]\n",
      " [ 184.68185425]\n",
      " [ 177.97161865]\n",
      " [ 194.61027527]\n",
      " [ 142.07554626]]\n",
      "800 Cost:  4.80282 \n",
      "Prediction:\n",
      " [[ 156.23196411]\n",
      " [ 184.71003723]\n",
      " [ 177.98690796]\n",
      " [ 194.60264587]\n",
      " [ 142.12402344]]\n",
      "900 Cost:  4.65958 \n",
      "Prediction:\n",
      " [[ 156.15153503]\n",
      " [ 184.73710632]\n",
      " [ 178.00212097]\n",
      " [ 194.59541321]\n",
      " [ 142.17074585]]\n",
      "1000 Cost:  4.52382 \n",
      "Prediction:\n",
      " [[ 156.07341003]\n",
      " [ 184.76307678]\n",
      " [ 178.01722717]\n",
      " [ 194.58848572]\n",
      " [ 142.21577454]]\n",
      "1100 Cost:  4.39515 \n",
      "Prediction:\n",
      " [[ 155.99761963]\n",
      " [ 184.78805542]\n",
      " [ 178.0322876 ]\n",
      " [ 194.58197021]\n",
      " [ 142.25920105]]\n",
      "1200 Cost:  4.27306 \n",
      "Prediction:\n",
      " [[ 155.92399597]\n",
      " [ 184.81202698]\n",
      " [ 178.04725647]\n",
      " [ 194.57579041]\n",
      " [ 142.30107117]]\n",
      "1300 Cost:  4.15719 \n",
      "Prediction:\n",
      " [[ 155.85249329]\n",
      " [ 184.8349762 ]\n",
      " [ 178.06214905]\n",
      " [ 194.56990051]\n",
      " [ 142.34138489]]\n",
      "1400 Cost:  4.04716 \n",
      "Prediction:\n",
      " [[ 155.78308105]\n",
      " [ 184.85705566]\n",
      " [ 178.07698059]\n",
      " [ 194.56436157]\n",
      " [ 142.38027954]]\n",
      "1500 Cost:  3.94263 \n",
      "Prediction:\n",
      " [[ 155.71565247]\n",
      " [ 184.8782196 ]\n",
      " [ 178.09172058]\n",
      " [ 194.55909729]\n",
      " [ 142.41773987]]\n",
      "1600 Cost:  3.84321 \n",
      "Prediction:\n",
      " [[ 155.65013123]\n",
      " [ 184.89848328]\n",
      " [ 178.10636902]\n",
      " [ 194.55413818]\n",
      " [ 142.45379639]]\n",
      "1700 Cost:  3.74868 \n",
      "Prediction:\n",
      " [[ 155.58651733]\n",
      " [ 184.91792297]\n",
      " [ 178.12095642]\n",
      " [ 194.54946899]\n",
      " [ 142.48855591]]\n",
      "1800 Cost:  3.65865 \n",
      "Prediction:\n",
      " [[ 155.52470398]\n",
      " [ 184.9365387 ]\n",
      " [ 178.13548279]\n",
      " [ 194.54508972]\n",
      " [ 142.52203369]]\n",
      "1900 Cost:  3.57295 \n",
      "Prediction:\n",
      " [[ 155.46464539]\n",
      " [ 184.95436096]\n",
      " [ 178.14988708]\n",
      " [ 194.54095459]\n",
      " [ 142.554245  ]]\n",
      "2000 Cost:  3.49124 \n",
      "Prediction:\n",
      " [[ 155.40628052]\n",
      " [ 184.97145081]\n",
      " [ 178.16424561]\n",
      " [ 194.53709412]\n",
      " [ 142.58529663]]\n"
     ]
    }
   ],
   "source": [
    "for step in range(2001):\n",
    "    sess.run(train, feed_dict={X:x_data, Y: y_data})\n",
    "    if step % 100 == 0:\n",
    "        cost_val, hy_val = sess.run(\n",
    "            [cost, hypothesis], feed_dict={X:x_data, Y: y_data})\n",
    "        print(step, \"Cost: \", cost_val, \"\\nPrediction:\\n\", hy_val)"
   ]
  },
  {
   "cell_type": "code",
   "execution_count": 57,
   "metadata": {
    "collapsed": false
   },
   "outputs": [
    {
     "name": "stdout",
     "output_type": "stream",
     "text": [
      "[[ 199.47436523]]\n"
     ]
    }
   ],
   "source": [
    "#Ask to machine\n",
    "myScore = sess.run(hypothesis, feed_dict={X:[[100, 90, 101]]})\n",
    "print(myScore)"
   ]
  }
 ],
 "metadata": {
  "kernelspec": {
   "display_name": "tensorflow",
   "language": "python",
   "name": "tensorflow"
  },
  "language_info": {
   "codemirror_mode": {
    "name": "ipython",
    "version": 3
   },
   "file_extension": ".py",
   "mimetype": "text/x-python",
   "name": "python",
   "nbconvert_exporter": "python",
   "pygments_lexer": "ipython3",
   "version": "3.5.2"
  }
 },
 "nbformat": 4,
 "nbformat_minor": 2
}
